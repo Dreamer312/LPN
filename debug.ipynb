{
 "cells": [
  {
   "cell_type": "code",
   "execution_count": 14,
   "metadata": {},
   "outputs": [
    {
     "name": "stdout",
     "output_type": "stream",
     "text": [
      "False\n",
      "761\n",
      "762\n"
     ]
    }
   ],
   "source": [
    "import json\n",
    "\n",
    "# Load the grd duplicates data\n",
    "with open(\"duplicate_grd.json\", \"r\") as file:\n",
    "    duplicates_grd_data = json.load(file)\n",
    "\n",
    "# Load the sat duplicates data\n",
    "with open(\"duplicate_sat.json\", \"r\") as file:\n",
    "    duplicates_sat_data = json.load(file)\n",
    "\n",
    "# We only compare the image numbers, not the complete paths\n",
    "grd_image_pairs = [[img.split('/')[-1].split('.')[0] for img in pair] for pair in duplicates_grd_data.values()]\n",
    "sat_image_pairs = [[img.split('/')[-1].split('.')[0] for img in pair] for pair in duplicates_sat_data.values()]\n",
    "\n",
    "# Convert the lists of image pairs to sets for easier comparison\n",
    "grd_image_pairs_set = set(tuple(sorted(pair)) for pair in grd_image_pairs)\n",
    "sat_image_pairs_set = set(tuple(sorted(pair)) for pair in sat_image_pairs)\n",
    "\n",
    "# Check if the sets are equal\n",
    "print(grd_image_pairs_set == sat_image_pairs_set)\n",
    "\n",
    "# print(grd_image_pairs[:-5])\n",
    "\n",
    "# print(sat_image_pairs[:-5])\n",
    "\n",
    "print(len(grd_image_pairs_set))\n",
    "print(len(sat_image_pairs_set))\n"
   ]
  },
  {
   "cell_type": "code",
   "execution_count": 19,
   "metadata": {},
   "outputs": [
    {
     "name": "stdout",
     "output_type": "stream",
     "text": [
      "['0036267.jpg', '0011895.jpg', '0023631.jpg', '0034761.jpg', '0040176.jpg', '0020896.jpg', '0022823.jpg', '0008901.jpg', '0012122.jpg', '0022609.jpg', '0034256.jpg', '0014739.jpg', '0008683.jpg', '0039351.jpg', '0037241.jpg', '0022710.jpg', '0025680.jpg', '0008979.jpg', '0039699.jpg', '0018225.jpg', '0035055.jpg', '0012978.jpg', '0013695.jpg', '0024433.jpg', '0010961.jpg', '0013685.jpg', '0023047.jpg', '0029044.jpg', '0038888.jpg', '0000742.jpg', '0009155.jpg', '0026613.jpg', '0036170.jpg', '0036760.jpg', '0038179.jpg', '0000975.jpg', '0030734.jpg', '0000820.jpg', '0024528.jpg', '0020794.jpg', '0014520.jpg', '0026067.jpg', '0003771.jpg', '0018732.jpg', '0019909.jpg', '0037112.jpg', '0024904.jpg', '0015438.jpg', '0031860.jpg', '0035895.jpg', '0029242.jpg', '0013757.jpg', '0028926.jpg', '0039878.jpg', '0006270.jpg', '0031149.jpg', '0023457.jpg', '0020790.jpg', '0002459.jpg', '0032928.jpg', '0040122.jpg', '0026252.jpg', '0010530.jpg', '0004405.jpg', '0031203.jpg', '0040758.jpg', '0040860.jpg', '0013984.jpg', '0016645.jpg', '0038644.jpg', '0041352.jpg', '0024812.jpg', '0024233.jpg', '0041739.jpg', '0042280.jpg', '0041671.jpg', '0012443.jpg', '0017993.jpg', '0000519.jpg', '0019948.jpg', '0035327.jpg', '0032122.jpg', '0033883.jpg', '0011844.jpg', '0014399.jpg', '0008992.jpg', '0006154.jpg', '0016306.jpg', '0022801.jpg', '0017513.jpg', '0039762.jpg', '0014985.jpg', '0007445.jpg', '0008048.jpg', '0011329.jpg', '0002034.jpg', '0001383.jpg', '0015914.jpg', '0014020.jpg', '0030826.jpg', '0008891.jpg', '0033186.jpg', '0014788.jpg', '0042949.jpg', '0044367.jpg', '0037975.jpg', '0026217.jpg', '0018321.jpg', '0036433.jpg', '0033744.jpg', '0041129.jpg', '0038043.jpg', '0024170.jpg', '0041275.jpg', '0041575.jpg', '0021669.jpg', '0015590.jpg', '0001339.jpg', '0032904.jpg', '0024976.jpg', '0014387.jpg', '0027792.jpg', '0022004.jpg', '0003851.jpg', '0026685.jpg', '0011078.jpg', '0022197.jpg', '0018875.jpg', '0027836.jpg', '0002185.jpg', '0032032.jpg', '0043591.jpg', '0019044.jpg', '0023220.jpg', '0031825.jpg', '0023280.jpg', '0038424.jpg', '0023813.jpg', '0005224.jpg', '0032823.jpg', '0032487.jpg', '0039307.jpg', '0042544.jpg', '0006886.jpg', '0007561.jpg', '0008997.jpg', '0018754.jpg', '0043689.jpg', '0043653.jpg', '0000045.jpg', '0023483.jpg', '0019317.jpg', '0022653.jpg', '0033328.jpg', '0042762.jpg', '0001930.jpg', '0023191.jpg', '0007266.jpg', '0013255.jpg', '0008117.jpg', '0017999.jpg', '0029267.jpg', '0034403.jpg', '0019302.jpg', '0000440.jpg', '0037052.jpg', '0040566.jpg', '0016435.jpg', '0033969.jpg', '0019371.jpg', '0021579.jpg', '0042917.jpg', '0036355.jpg', '0029721.jpg', '0003713.jpg', '0002514.jpg', '0012502.jpg', '0011716.jpg', '0020529.jpg', '0014205.jpg', '0028276.jpg', '0023776.jpg', '0037180.jpg', '0032509.jpg', '0004572.jpg', '0003809.jpg', '0012105.jpg', '0020186.jpg', '0004331.jpg', '0023611.jpg', '0006287.jpg', '0042863.jpg', '0026500.jpg', '0030572.jpg', '0001725.jpg', '0019923.jpg', '0001399.jpg', '0041923.jpg', '0002229.jpg', '0023336.jpg', '0038189.jpg', '0031695.jpg', '0003188.jpg', '0020431.jpg', '0017155.jpg', '0014581.jpg', '0025303.jpg', '0030641.jpg', '0023070.jpg', '0008244.jpg', '0043606.jpg', '0000935.jpg', '0039318.jpg', '0033136.jpg', '0037787.jpg', '0034830.jpg', '0035186.jpg', '0031523.jpg', '0038241.jpg', '0028841.jpg', '0022974.jpg', '0031945.jpg', '0044042.jpg', '0035720.jpg', '0042317.jpg', '0023561.jpg', '0029888.jpg', '0037932.jpg', '0027951.jpg', '0030784.jpg', '0002740.jpg', '0025357.jpg', '0019471.jpg', '0008564.jpg', '0029837.jpg', '0006153.jpg', '0042823.jpg', '0031266.jpg', '0043004.jpg', '0018325.jpg', '0006694.jpg', '0021535.jpg', '0006846.jpg', '0022855.jpg', '0042701.jpg', '0027574.jpg', '0033953.jpg', '0000526.jpg', '0031126.jpg', '0007878.jpg', '0025401.jpg', '0022768.jpg', '0006464.jpg', '0034093.jpg', '0019280.jpg', '0041271.jpg', '0025258.jpg', '0023156.jpg', '0043861.jpg', '0020573.jpg', '0028907.jpg', '0036525.jpg', '0040550.jpg', '0040469.jpg', '0025361.jpg', '0007861.jpg', '0032985.jpg', '0022804.jpg', '0009907.jpg', '0016983.jpg', '0038464.jpg', '0012249.jpg', '0038561.jpg', '0007489.jpg', '0005219.jpg', '0040266.jpg', '0010339.jpg', '0012369.jpg', '0016257.jpg', '0000327.jpg', '0034901.jpg', '0000011.jpg', '0005327.jpg', '0043868.jpg', '0043607.jpg', '0019298.jpg', '0010751.jpg', '0031510.jpg', '0013681.jpg', '0004747.jpg', '0029996.jpg', '0043402.jpg', '0042485.jpg', '0026856.jpg', '0005362.jpg', '0022102.jpg', '0006675.jpg', '0018034.jpg', '0007807.jpg', '0011196.jpg', '0013204.jpg', '0005189.jpg', '0012759.jpg', '0015517.jpg', '0044210.jpg', '0002910.jpg', '0021171.jpg', '0011231.jpg', '0011110.jpg', '0024763.jpg', '0043752.jpg', '0035660.jpg', '0012412.jpg', '0026269.jpg', '0021983.jpg', '0019645.jpg', '0001618.jpg', '0012470.jpg', '0020056.jpg', '0035568.jpg', '0000856.jpg', '0014046.jpg', '0004326.jpg', '0004040.jpg', '0020728.jpg', '0032051.jpg', '0042573.jpg', '0007774.jpg', '0023684.jpg', '0019791.jpg', '0009036.jpg', '0039604.jpg', '0001287.jpg', '0026534.jpg', '0002140.jpg', '0017624.jpg', '0001510.jpg', '0009084.jpg', '0017933.jpg', '0036085.jpg', '0021416.jpg', '0032206.jpg', '0038307.jpg', '0006524.jpg', '0021578.jpg', '0041426.jpg', '0044172.jpg', '0011741.jpg', '0009676.jpg', '0008945.jpg', '0025230.jpg', '0007948.jpg', '0013890.jpg', '0033745.jpg', '0005691.jpg', '0035378.jpg', '0020804.jpg', '0043531.jpg', '0013716.jpg', '0044346.jpg', '0031740.jpg', '0033463.jpg', '0032452.jpg', '0043693.jpg', '0035249.jpg', '0021334.jpg', '0018701.jpg', '0040906.jpg', '0019101.jpg', '0034502.jpg', '0002575.jpg', '0003538.jpg', '0013070.jpg', '0013342.jpg', '0037117.jpg', '0023334.jpg', '0011446.jpg', '0029785.jpg', '0027878.jpg', '0010254.jpg', '0041594.jpg', '0006267.jpg', '0000234.jpg', '0028285.jpg', '0022440.jpg', '0001069.jpg', '0031457.jpg', '0033854.jpg', '0020125.jpg', '0029864.jpg', '0029562.jpg', '0020582.jpg', '0017905.jpg', '0033310.jpg', '0009392.jpg', '0010089.jpg', '0042293.jpg', '0028857.jpg', '0022125.jpg', '0016642.jpg', '0006330.jpg', '0024472.jpg', '0032429.jpg', '0039838.jpg', '0008839.jpg', '0024318.jpg', '0005565.jpg', '0021275.jpg', '0034775.jpg', '0031349.jpg', '0017646.jpg', '0028004.jpg', '0001326.jpg', '0006102.jpg', '0018695.jpg', '0004483.jpg', '0037673.jpg', '0026241.jpg', '0019480.jpg', '0026166.jpg', '0015143.jpg', '0009684.jpg', '0003711.jpg', '0041689.jpg', '0043746.jpg', '0040388.jpg', '0009403.jpg', '0000364.jpg', '0014861.jpg', '0028156.jpg', '0012205.jpg', '0042138.jpg', '0023542.jpg', '0023720.jpg', '0033751.jpg', '0029381.jpg', '0027038.jpg', '0043909.jpg', '0043960.jpg', '0008030.jpg', '0015083.jpg', '0026134.jpg', '0005252.jpg', '0035715.jpg', '0041471.jpg', '0014664.jpg', '0021696.jpg', '0034544.jpg', '0001621.jpg', '0037800.jpg', '0017573.jpg', '0023584.jpg', '0028971.jpg', '0043284.jpg', '0021790.jpg', '0039379.jpg', '0000584.jpg', '0000708.jpg', '0026322.jpg', '0040185.jpg', '0044124.jpg', '0009302.jpg', '0001707.jpg', '0020968.jpg', '0013619.jpg', '0004176.jpg', '0021555.jpg', '0036214.jpg', '0019141.jpg', '0043910.jpg', '0028953.jpg', '0009616.jpg', '0031570.jpg', '0012495.jpg', '0036065.jpg', '0030735.jpg', '0037479.jpg', '0037321.jpg', '0020312.jpg', '0016369.jpg', '0007271.jpg', '0026995.jpg', '0016383.jpg', '0008869.jpg', '0012142.jpg', '0038061.jpg', '0022181.jpg', '0021949.jpg', '0034503.jpg', '0002619.jpg', '0000326.jpg', '0025011.jpg', '0039237.jpg', '0006489.jpg', '0007866.jpg', '0002850.jpg', '0018318.jpg', '0011164.jpg', '0019300.jpg', '0028941.jpg', '0006409.jpg', '0022093.jpg', '0011471.jpg', '0015432.jpg', '0030769.jpg', '0020844.jpg', '0032237.jpg', '0034002.jpg', '0034485.jpg', '0021498.jpg', '0007840.jpg', '0023496.jpg', '0025247.jpg', '0044343.jpg', '0033071.jpg', '0026280.jpg', '0003997.jpg', '0028152.jpg', '0002859.jpg', '0020329.jpg', '0015038.jpg', '0041757.jpg', '0000376.jpg', '0043889.jpg', '0005178.jpg', '0017132.jpg', '0037944.jpg', '0003984.jpg', '0008532.jpg', '0011880.jpg', '0034047.jpg', '0024180.jpg', '0039241.jpg', '0020856.jpg', '0023806.jpg', '0036713.jpg', '0033152.jpg', '0001081.jpg', '0006568.jpg', '0012115.jpg', '0042327.jpg', '0036995.jpg', '0028963.jpg', '0030224.jpg', '0000433.jpg', '0043191.jpg', '0037574.jpg', '0031532.jpg', '0022451.jpg', '0035192.jpg', '0036755.jpg', '0004414.jpg', '0004320.jpg', '0004011.jpg', '0010224.jpg', '0035754.jpg', '0003193.jpg', '0038398.jpg', '0037139.jpg', '0007050.jpg', '0035485.jpg', '0026384.jpg', '0012743.jpg', '0035657.jpg', '0012463.jpg', '0029273.jpg', '0002737.jpg', '0011524.jpg', '0015623.jpg', '0037012.jpg', '0034226.jpg', '0032729.jpg', '0003774.jpg', '0000042.jpg', '0031107.jpg', '0029762.jpg', '0006731.jpg', '0037296.jpg', '0012053.jpg', '0012504.jpg', '0014938.jpg', '0032010.jpg', '0020653.jpg', '0029780.jpg', '0025643.jpg', '0006377.jpg', '0000116.jpg', '0030039.jpg', '0016538.jpg', '0005067.jpg', '0044469.jpg', '0025790.jpg', '0003457.jpg', '0034275.jpg', '0010832.jpg', '0026363.jpg', '0001505.jpg', '0018103.jpg', '0014129.jpg', '0036221.jpg', '0000647.jpg', '0037732.jpg', '0024239.jpg', '0025234.jpg', '0030981.jpg', '0000186.jpg', '0026857.jpg', '0036860.jpg', '0026980.jpg', '0010323.jpg', '0011236.jpg', '0026633.jpg', '0021763.jpg', '0014752.jpg', '0009416.jpg', '0014143.jpg', '0009398.jpg', '0004628.jpg', '0034270.jpg', '0009762.jpg', '0010837.jpg', '0013848.jpg', '0002035.jpg', '0016328.jpg', '0028833.jpg', '0044424.jpg', '0035275.jpg', '0011152.jpg', '0010663.jpg', '0037506.jpg', '0014993.jpg', '0010506.jpg', '0014073.jpg', '0042621.jpg', '0031063.jpg', '0012547.jpg', '0025463.jpg', '0012904.jpg', '0009415.jpg', '0008759.jpg', '0035759.jpg', '0013725.jpg', '0024832.jpg', '0019766.jpg', '0019413.jpg', '0020356.jpg', '0025511.jpg', '0035926.jpg', '0002846.jpg', '0038389.jpg', '0007136.jpg', '0005125.jpg', '0006037.jpg', '0007482.jpg', '0023823.jpg', '0031204.jpg', '0004777.jpg', '0033897.jpg', '0035423.jpg', '0030622.jpg', '0039968.jpg', '0026521.jpg', '0043274.jpg', '0029451.jpg', '0017906.jpg', '0035233.jpg', '0026519.jpg', '0032350.jpg', '0033598.jpg', '0005092.jpg', '0015531.jpg', '0004696.jpg', '0003107.jpg', '0012618.jpg', '0029376.jpg', '0043331.jpg', '0000947.jpg', '0023888.jpg', '0032634.jpg', '0038250.jpg', '0013502.jpg', '0027444.jpg', '0018856.jpg', '0027553.jpg', '0015929.jpg', '0038470.jpg', '0018587.jpg', '0014877.jpg', '0037925.jpg', '0011259.jpg', '0024322.jpg', '0018683.jpg', '0038423.jpg', '0000805.jpg', '0037430.jpg', '0039159.jpg', '0019097.jpg', '0011455.jpg', '0043175.jpg', '0015156.jpg', '0024235.jpg', '0044014.jpg', '0025484.jpg', '0002857.jpg', '0018068.jpg', '0010676.jpg', '0036663.jpg', '0032883.jpg', '0024332.jpg', '0039606.jpg', '0018296.jpg', '0031158.jpg', '0042737.jpg', '0008953.jpg', '0033800.jpg', '0009209.jpg', '0029011.jpg', '0024027.jpg', '0011391.jpg', '0032111.jpg', '0020012.jpg', '0000665.jpg', '0017716.jpg', '0010956.jpg', '0001218.jpg', '0039924.jpg', '0012503.jpg', '0025226.jpg', '0007404.jpg', '0043981.jpg', '0025617.jpg', '0005112.jpg', '0037710.jpg', '0036321.jpg', '0030909.jpg', '0021240.jpg', '0035118.jpg', '0013950.jpg', '0033774.jpg', '0009923.jpg', '0012877.jpg', '0022807.jpg', '0041966.jpg', '0004125.jpg', '0008590.jpg', '0032092.jpg', '0031382.jpg', '0004875.jpg', '0039993.jpg', '0026210.jpg', '0001695.jpg', '0003917.jpg', '0033205.jpg', '0040889.jpg', '0039218.jpg', '0036441.jpg', '0022362.jpg', '0011282.jpg', '0007159.jpg', '0035214.jpg', '0040424.jpg', '0031574.jpg']\n"
     ]
    }
   ],
   "source": [
    "skip_images = [pair[0].split('/')[-1] for pair in duplicates_sat_data.values()]\n",
    "print(skip_images)"
   ]
  },
  {
   "cell_type": "code",
   "execution_count": 16,
   "metadata": {},
   "outputs": [
    {
     "name": "stdout",
     "output_type": "stream",
     "text": [
      "Pairs only in grd dataset:\n",
      "\n",
      "Pairs only in sat dataset:\n",
      "('0025234', '0032816')\n"
     ]
    }
   ],
   "source": [
    "# Find the differences between the grd and sat sets\n",
    "grd_only_pairs = grd_image_pairs_set - sat_image_pairs_set\n",
    "sat_only_pairs = sat_image_pairs_set - grd_image_pairs_set\n",
    "\n",
    "# Print the pairs that are only in the grd dataset\n",
    "print(\"Pairs only in grd dataset:\")\n",
    "for pair in grd_only_pairs:\n",
    "    print(pair)\n",
    "\n",
    "# Print the pairs that are only in the sat dataset\n",
    "print(\"\\nPairs only in sat dataset:\")\n",
    "for pair in sat_only_pairs:\n",
    "    print(pair)\n"
   ]
  },
  {
   "cell_type": "code",
   "execution_count": 15,
   "metadata": {},
   "outputs": [
    {
     "data": {
      "text/plain": [
       "False"
      ]
     },
     "execution_count": 15,
     "metadata": {},
     "output_type": "execute_result"
    }
   ],
   "source": [
    "a = (10,11)\n",
    "b = (11,10)\n",
    "\n",
    "a==b"
   ]
  },
  {
   "cell_type": "code",
   "execution_count": 1,
   "metadata": {},
   "outputs": [],
   "source": [
    "import torch\n",
    "torch.cuda.empty_cache()"
   ]
  }
 ],
 "metadata": {
  "kernelspec": {
   "display_name": "gundam",
   "language": "python",
   "name": "python3"
  },
  "language_info": {
   "codemirror_mode": {
    "name": "ipython",
    "version": 3
   },
   "file_extension": ".py",
   "mimetype": "text/x-python",
   "name": "python",
   "nbconvert_exporter": "python",
   "pygments_lexer": "ipython3",
   "version": "3.10.9"
  },
  "orig_nbformat": 4
 },
 "nbformat": 4,
 "nbformat_minor": 2
}
